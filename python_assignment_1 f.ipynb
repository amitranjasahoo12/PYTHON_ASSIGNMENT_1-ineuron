{
 "cells": [
  {
   "cell_type": "markdown",
   "id": "eabd2899",
   "metadata": {},
   "source": [
    "# PYTHON ASSIGNMENT-1"
   ]
  },
  {
   "cell_type": "markdown",
   "id": "ebf1c913",
   "metadata": {},
   "source": [
    "# 1. Write a program which will find all such number which are divisible by 7 but are not a multipile of 5, between 2000 and 3200 (both include). The numbers are obtained should be printed in a comma-separated sequence on a single line."
   ]
  },
  {
   "cell_type": "code",
   "execution_count": 27,
   "id": "2df9cd68",
   "metadata": {},
   "outputs": [
    {
     "name": "stdout",
     "output_type": "stream",
     "text": [
      "2002, 2009, 2016, 2023, 2037, 2044, 2051, 2058, 2072, 2079, 2086, 2093, 2107, 2114, 2121, 2128, 2142, 2149, 2156, 2163, 2177, 2184, 2191, 2198, 2212, 2219, 2226, 2233, 2247, 2254, 2261, 2268, 2282, 2289, 2296, 2303, 2317, 2324, 2331, 2338, 2352, 2359, 2366, 2373, 2387, 2394, 2401, 2408, 2422, 2429, 2436, 2443, 2457, 2464, 2471, 2478, 2492, 2499, 2506, 2513, 2527, 2534, 2541, 2548, 2562, 2569, 2576, 2583, 2597, 2604, 2611, 2618, 2632, 2639, 2646, 2653, 2667, 2674, 2681, 2688, 2702, 2709, 2716, 2723, 2737, 2744, 2751, 2758, 2772, 2779, 2786, 2793, 2807, 2814, 2821, 2828, 2842, 2849, 2856, 2863, 2877, 2884, 2891, 2898, 2912, 2919, 2926, 2933, 2947, 2954, 2961, 2968, 2982, 2989, 2996, 3003, 3017, 3024, 3031, 3038, 3052, 3059, 3066, 3073, 3087, 3094, 3101, 3108, 3122, 3129, 3136, 3143, 3157, 3164, 3171, 3178, 3192, 3199\n"
     ]
    }
   ],
   "source": [
    "l = list()\n",
    "for i in range(2000, 3200):\n",
    "    if (i % 7) == 0 and (i % 5) != 0:\n",
    "        l.append(i)\n",
    "print(str(l)[1:-1], sep = \" , \")"
   ]
  },
  {
   "cell_type": "markdown",
   "id": "7a381e2f",
   "metadata": {},
   "source": [
    "# 2.Write a python program to accept the user's first and last name and then geeting them printed in reverse order with a space between first name and last name."
   ]
  },
  {
   "cell_type": "code",
   "execution_count": 41,
   "id": "7822f664",
   "metadata": {},
   "outputs": [
    {
     "name": "stdout",
     "output_type": "stream",
     "text": [
      "enter your first name: amit\n",
      "enter your last name: sahoo\n",
      "Reverse Name letters is: tima oohas\n",
      "Reverse Full Name is :   ['sahoo', 'amit']\n",
      "Reverse Full Name with letters is:   oohas tima\n"
     ]
    }
   ],
   "source": [
    "name = list()\n",
    "rev_name= list()\n",
    "first_name=input(\"enter your first name: \")\n",
    "last_name=input(\"enter your last name: \")\n",
    "name.append(first_name)\n",
    "rev_name.append(first_name[::-1])\n",
    "name.append(last_name)\n",
    "rev_name.append(last_name[::-1])\n",
    "print(f\"Reverse Name letters is: {first_name[::-1]} {last_name[::-1]}\")\n",
    "print(\"Reverse Full Name is : \"+\" \" , name[::-1] )\n",
    "print(\"Reverse Full Name with letters is: \" + \" \", last_name [::-1], first_name[::-1])"
   ]
  },
  {
   "cell_type": "markdown",
   "id": "656cd7fe",
   "metadata": {},
   "source": [
    "# 3.Write a python program to find the volume of a sphere with diameter 12cm.\n",
    "Formula V= 4/3*pi*r**3"
   ]
  },
  {
   "cell_type": "code",
   "execution_count": 5,
   "id": "76b7c377",
   "metadata": {},
   "outputs": [
    {
     "name": "stdout",
     "output_type": "stream",
     "text": [
      "volume of the sphere is: 905.143 cm³\n"
     ]
    }
   ],
   "source": [
    "d=12\n",
    "r=d/2\n",
    "pi=22/7\n",
    "volume= (4/3) * pi * (r ** 3)\n",
    "print(f\"volume of the sphere is: {volume:.3f} cm\\u00b3\")"
   ]
  },
  {
   "cell_type": "code",
   "execution_count": null,
   "id": "0f5f3c92",
   "metadata": {},
   "outputs": [],
   "source": []
  }
 ],
 "metadata": {
  "kernelspec": {
   "display_name": "Python 3",
   "language": "python",
   "name": "python3"
  },
  "language_info": {
   "codemirror_mode": {
    "name": "ipython",
    "version": 3
   },
   "file_extension": ".py",
   "mimetype": "text/x-python",
   "name": "python",
   "nbconvert_exporter": "python",
   "pygments_lexer": "ipython3",
   "version": "3.8.8"
  }
 },
 "nbformat": 4,
 "nbformat_minor": 5
}
